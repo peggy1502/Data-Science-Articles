{
 "cells": [
  {
   "cell_type": "markdown",
   "id": "54d1457e",
   "metadata": {
    "papermill": {
     "duration": 0.010834,
     "end_time": "2023-02-16T10:05:35.925065",
     "exception": false,
     "start_time": "2023-02-16T10:05:35.914231",
     "status": "completed"
    },
    "tags": []
   },
   "source": [
    "# Product Quantization for Similarity Search\n",
    "\n",
    "## How to compress and fit a humongous set of vectors in memory for similarity search with asymmetric distance computation (ADC)\n",
    "\n",
    "### [Click here to read and learn how Product Quantization works (with detailed explanation and illustrations)](https://peggy1502.medium.com/2f1f67c5fddd)\n"
   ]
  },
  {
   "cell_type": "code",
   "execution_count": 1,
   "id": "02e4d85b",
   "metadata": {
    "_cell_guid": "b1076dfc-b9ad-4769-8c92-a6c4dae69d19",
    "_uuid": "8f2839f25d086af736a60e9eeb907d3b93b6e0e5",
    "execution": {
     "iopub.execute_input": "2023-02-16T10:05:35.946319Z",
     "iopub.status.busy": "2023-02-16T10:05:35.945675Z",
     "iopub.status.idle": "2023-02-16T10:05:37.403539Z",
     "shell.execute_reply": "2023-02-16T10:05:37.402201Z"
    },
    "papermill": {
     "duration": 1.471733,
     "end_time": "2023-02-16T10:05:37.406398",
     "exception": false,
     "start_time": "2023-02-16T10:05:35.934665",
     "status": "completed"
    },
    "tags": []
   },
   "outputs": [],
   "source": [
    "import numpy as np\n",
    "from scipy.cluster.vq import kmeans2, vq\n",
    "from scipy.spatial.distance import cdist\n",
    "from sklearn.cluster import KMeans"
   ]
  },
  {
   "cell_type": "markdown",
   "id": "9e4fe930",
   "metadata": {
    "papermill": {
     "duration": 0.009207,
     "end_time": "2023-02-16T10:05:37.425401",
     "exception": false,
     "start_time": "2023-02-16T10:05:37.416194",
     "status": "completed"
    },
    "tags": []
   },
   "source": [
    "# PQ functions for train, encode, search"
   ]
  },
  {
   "cell_type": "markdown",
   "id": "b2e62fd6",
   "metadata": {
    "papermill": {
     "duration": 0.009242,
     "end_time": "2023-02-16T10:05:37.444130",
     "exception": false,
     "start_time": "2023-02-16T10:05:37.434888",
     "status": "completed"
    },
    "tags": []
   },
   "source": [
    "- M = number of segments\n",
    "- k = number of centroids per segment\n",
    "- s = dimension, or length of a segment"
   ]
  },
  {
   "cell_type": "code",
   "execution_count": 2,
   "id": "401d0bc7",
   "metadata": {
    "execution": {
     "iopub.execute_input": "2023-02-16T10:05:37.465375Z",
     "iopub.status.busy": "2023-02-16T10:05:37.464999Z",
     "iopub.status.idle": "2023-02-16T10:05:37.471170Z",
     "shell.execute_reply": "2023-02-16T10:05:37.470328Z"
    },
    "papermill": {
     "duration": 0.019786,
     "end_time": "2023-02-16T10:05:37.473516",
     "exception": false,
     "start_time": "2023-02-16T10:05:37.453730",
     "status": "completed"
    },
    "tags": []
   },
   "outputs": [],
   "source": [
    "def PQ_train(vectors, M, k):\n",
    "    s = int(vectors.shape[1] / M)                      # dimension (or length) of a segment.\n",
    "    codebook = np.empty((M, k, s), np.float32)         \n",
    "        \n",
    "    for m in range(M):\n",
    "        sub_vectors = vectors[:, m*s:(m+1)*s]          # sub-vectors for segment m.\n",
    "        codebook[m], label = kmeans2(sub_vectors, k)   # run k-means clustering for each segment.\n",
    "        \n",
    "    return codebook        "
   ]
  },
  {
   "cell_type": "code",
   "execution_count": 3,
   "id": "cb9345aa",
   "metadata": {
    "execution": {
     "iopub.execute_input": "2023-02-16T10:05:37.494042Z",
     "iopub.status.busy": "2023-02-16T10:05:37.493711Z",
     "iopub.status.idle": "2023-02-16T10:05:37.500448Z",
     "shell.execute_reply": "2023-02-16T10:05:37.499451Z"
    },
    "papermill": {
     "duration": 0.019751,
     "end_time": "2023-02-16T10:05:37.502752",
     "exception": false,
     "start_time": "2023-02-16T10:05:37.483001",
     "status": "completed"
    },
    "tags": []
   },
   "outputs": [],
   "source": [
    "def PQ_encode(vectors, codebook):\n",
    "    M, k, s = codebook.shape\n",
    "    PQ_code = np.empty((vectors.shape[0], M), np.uint8)\n",
    "    \n",
    "    for m in range(M):\n",
    "        sub_vectors = vectors[:, m*s:(m+1)*s]           # sub-vectors for segment m.\n",
    "        centroid_ids, _ = vq(sub_vectors, codebook[m])  # vq returns the nearest centroid Ids.\n",
    "        PQ_code[:, m] = centroid_ids                    # assign centroid Ids to PQ_code.\n",
    "        \n",
    "    return PQ_code"
   ]
  },
  {
   "cell_type": "code",
   "execution_count": 4,
   "id": "2433919b",
   "metadata": {
    "execution": {
     "iopub.execute_input": "2023-02-16T10:05:37.524003Z",
     "iopub.status.busy": "2023-02-16T10:05:37.523263Z",
     "iopub.status.idle": "2023-02-16T10:05:37.531389Z",
     "shell.execute_reply": "2023-02-16T10:05:37.530614Z"
    },
    "papermill": {
     "duration": 0.021291,
     "end_time": "2023-02-16T10:05:37.533589",
     "exception": false,
     "start_time": "2023-02-16T10:05:37.512298",
     "status": "completed"
    },
    "tags": []
   },
   "outputs": [],
   "source": [
    "def PQ_search(query_vector, codebook, PQ_code):\n",
    "    M, k, s = codebook.shape\n",
    "    #=====================================================================\n",
    "    # Build the distance table.\n",
    "    #=====================================================================\n",
    "    \n",
    "    distance_table = np.empty((M, k), np.float32)    # Shape is (M, k)    \n",
    "        \n",
    "    for m in range(M):\n",
    "        query_segment = query_vector[m*s:(m+1)*s]    # query vector for segment m.\n",
    "        distance_table[m] = cdist([query_segment], codebook[m], \"sqeuclidean\")[0]\n",
    "        \n",
    "    #=====================================================================\n",
    "    # Look up the partial distances from the distance table.\n",
    "    #=====================================================================\n",
    "    \n",
    "    N, M = PQ_code.shape\n",
    "    distance_table = distance_table.T               # Transpose the distance table to shape (k, M)\n",
    "    distances = np.zeros((N, )).astype(np.float32)\n",
    "\n",
    "    for n in range(N):                              # For each PQ Code, lookup the partial distances.\n",
    "        for m in range(M):\n",
    "            distances[n] += distance_table[PQ_code[n][m]][m] # Sum the partial distances from all the segments.\n",
    "            \n",
    "    return distance_table, distances    "
   ]
  },
  {
   "cell_type": "code",
   "execution_count": 5,
   "id": "075c8c5a",
   "metadata": {
    "execution": {
     "iopub.execute_input": "2023-02-16T10:05:37.554197Z",
     "iopub.status.busy": "2023-02-16T10:05:37.553647Z",
     "iopub.status.idle": "2023-02-16T10:05:37.557311Z",
     "shell.execute_reply": "2023-02-16T10:05:37.556578Z"
    },
    "papermill": {
     "duration": 0.0162,
     "end_time": "2023-02-16T10:05:37.559229",
     "exception": false,
     "start_time": "2023-02-16T10:05:37.543029",
     "status": "completed"
    },
    "tags": []
   },
   "outputs": [],
   "source": [
    "# def PQ_search(query_vector, codebook, PQ_code):\n",
    "#     M, k, s = codebook.shape\n",
    "#     distance_table = np.empty((M, k), np.float32)              # Shape is (M, k)   \n",
    "    \n",
    "#     for m in range(M):\n",
    "#         query_segment = query_vector[m*s:(m+1)*s]               # query vector for segment m.\n",
    "        \n",
    "#         distance_table[m] = cdist([query_segment], codebook[m], \"sqeuclidean\")[0]\n",
    "# #       distance_table[m] = np.linalg.norm(codebook[m] - query_segment, axis=1) ** 2\n",
    "        \n",
    "#     distances = np.sum(distance_table[range(M), PQ_code], axis=1)\n",
    "    \n",
    "#     return distances    "
   ]
  },
  {
   "cell_type": "markdown",
   "id": "8c31b201",
   "metadata": {
    "papermill": {
     "duration": 0.009018,
     "end_time": "2023-02-16T10:05:37.577612",
     "exception": false,
     "start_time": "2023-02-16T10:05:37.568594",
     "status": "completed"
    },
    "tags": []
   },
   "source": [
    "\n",
    "## Examples of database vectors (of length 128) that will be divided and split into 8 segments, with 256 centroids per segment.\n",
    "\n",
    "#### This test case shows example of results returned by using residual vectors compared to the vanilla PQ.\n",
    "\n",
    "## For more information on why residual vectors are used in IVFPQ, read [Similarity Search with IVFPQ](https://towardsdatascience.com/similarity-search-with-ivfpq-9c6348fd4db3)."
   ]
  },
  {
   "cell_type": "code",
   "execution_count": 6,
   "id": "f1e6af92",
   "metadata": {
    "execution": {
     "iopub.execute_input": "2023-02-16T10:05:37.598705Z",
     "iopub.status.busy": "2023-02-16T10:05:37.597961Z",
     "iopub.status.idle": "2023-02-16T10:06:07.380755Z",
     "shell.execute_reply": "2023-02-16T10:06:07.376942Z"
    },
    "papermill": {
     "duration": 29.796945,
     "end_time": "2023-02-16T10:06:07.384167",
     "exception": false,
     "start_time": "2023-02-16T10:05:37.587222",
     "status": "completed"
    },
    "tags": []
   },
   "outputs": [
    {
     "name": "stderr",
     "output_type": "stream",
     "text": [
      "/opt/conda/lib/python3.7/site-packages/scipy/cluster/vq.py:607: UserWarning: One of the clusters is empty. Re-run kmeans with a different initialization.\n",
      "  warnings.warn(\"One of the clusters is empty. \"\n",
      "/opt/conda/lib/python3.7/site-packages/scipy/cluster/vq.py:607: UserWarning: One of the clusters is empty. Re-run kmeans with a different initialization.\n",
      "  warnings.warn(\"One of the clusters is empty. \"\n"
     ]
    },
    {
     "name": "stdout",
     "output_type": "stream",
     "text": [
      "Total vectors: 1000\n",
      "List containing indices of top 10 nearest neighbors:\n",
      "Actual Result    : [ 75 302 940 139 218 285 971 498 902 752]\n",
      "Using vanilla PQ : [380 576 946 569 106 626 389 906 860 350] Indices matching actual result => []\n",
      "Using residuals  : [559 392 218 330  75 139 609 498 652 999] Indices matching actual result => [218, 75, 139, 498]\n",
      "============================================\n"
     ]
    },
    {
     "name": "stderr",
     "output_type": "stream",
     "text": [
      "/opt/conda/lib/python3.7/site-packages/scipy/cluster/vq.py:607: UserWarning: One of the clusters is empty. Re-run kmeans with a different initialization.\n",
      "  warnings.warn(\"One of the clusters is empty. \"\n"
     ]
    },
    {
     "name": "stdout",
     "output_type": "stream",
     "text": [
      "Total vectors: 2000\n",
      "List containing indices of top 10 nearest neighbors:\n",
      "Actual Result    : [1735  188  584 1326 1316 1048 1046  242 1198 1754]\n",
      "Using vanilla PQ : [ 446 1709  550  584  892 1735 1717  987  422 1287] Indices matching actual result => [584, 1735]\n",
      "Using residuals  : [1198   50  188  242  286  747 1709  420  970  383] Indices matching actual result => [1198, 188, 242]\n",
      "============================================\n"
     ]
    },
    {
     "name": "stderr",
     "output_type": "stream",
     "text": [
      "/opt/conda/lib/python3.7/site-packages/scipy/cluster/vq.py:607: UserWarning: One of the clusters is empty. Re-run kmeans with a different initialization.\n",
      "  warnings.warn(\"One of the clusters is empty. \"\n"
     ]
    },
    {
     "name": "stdout",
     "output_type": "stream",
     "text": [
      "Total vectors: 3000\n",
      "List containing indices of top 10 nearest neighbors:\n",
      "Actual Result    : [ 375  501 2335 1607 1431 1906 1594 2603 1428 2023]\n",
      "Using vanilla PQ : [2335 1605 1906 1107 2480  905   51 1928 1420 2603] Indices matching actual result => [2335, 1906, 2603]\n",
      "Using residuals  : [1594  905 1107 2535   91 1737  501    4 2763 1197] Indices matching actual result => [1594, 501]\n",
      "============================================\n"
     ]
    },
    {
     "name": "stderr",
     "output_type": "stream",
     "text": [
      "/opt/conda/lib/python3.7/site-packages/scipy/cluster/vq.py:607: UserWarning: One of the clusters is empty. Re-run kmeans with a different initialization.\n",
      "  warnings.warn(\"One of the clusters is empty. \"\n"
     ]
    },
    {
     "name": "stdout",
     "output_type": "stream",
     "text": [
      "Total vectors: 4000\n",
      "List containing indices of top 10 nearest neighbors:\n",
      "Actual Result    : [3116 2534  278 3887  170 2833 2122   70  600 2695]\n",
      "Using vanilla PQ : [1168 2294  719 2695 3116  170  571 2122 3887  775] Indices matching actual result => [2695, 3116, 170, 2122, 3887]\n",
      "Using residuals  : [2813  263  718 3420  453 2695 1719 2227 2294 1520] Indices matching actual result => [2695]\n",
      "============================================\n"
     ]
    },
    {
     "name": "stderr",
     "output_type": "stream",
     "text": [
      "/opt/conda/lib/python3.7/site-packages/scipy/cluster/vq.py:607: UserWarning: One of the clusters is empty. Re-run kmeans with a different initialization.\n",
      "  warnings.warn(\"One of the clusters is empty. \"\n"
     ]
    },
    {
     "name": "stdout",
     "output_type": "stream",
     "text": [
      "Total vectors: 5000\n",
      "List containing indices of top 10 nearest neighbors:\n",
      "Actual Result    : [3185  935  925  441 1308 3732 2949 2551  172 2082]\n",
      "Using vanilla PQ : [2551 1308  214  661 2901 3061 3362 1769  717 2257] Indices matching actual result => [2551, 1308]\n",
      "Using residuals  : [ 935  441 1151 2612 3427  277 1790 1385 3185 3777] Indices matching actual result => [935, 441, 3185]\n",
      "============================================\n"
     ]
    },
    {
     "name": "stderr",
     "output_type": "stream",
     "text": [
      "/opt/conda/lib/python3.7/site-packages/scipy/cluster/vq.py:607: UserWarning: One of the clusters is empty. Re-run kmeans with a different initialization.\n",
      "  warnings.warn(\"One of the clusters is empty. \"\n"
     ]
    },
    {
     "name": "stdout",
     "output_type": "stream",
     "text": [
      "Total vectors: 6000\n",
      "List containing indices of top 10 nearest neighbors:\n",
      "Actual Result    : [3544 1001 3049 1699 2996 3790 5395 4266  528   91]\n",
      "Using vanilla PQ : [5171 3817 4278 3879 1138 3520 3076 5332  885  465] Indices matching actual result => []\n",
      "Using residuals  : [4265 4321  465 1415 3714 3904 4756 3520 4373 3742] Indices matching actual result => []\n",
      "============================================\n"
     ]
    },
    {
     "name": "stderr",
     "output_type": "stream",
     "text": [
      "/opt/conda/lib/python3.7/site-packages/scipy/cluster/vq.py:607: UserWarning: One of the clusters is empty. Re-run kmeans with a different initialization.\n",
      "  warnings.warn(\"One of the clusters is empty. \"\n"
     ]
    },
    {
     "name": "stdout",
     "output_type": "stream",
     "text": [
      "Total vectors: 7000\n",
      "List containing indices of top 10 nearest neighbors:\n",
      "Actual Result    : [2632 3351  146 3547 4447 2125 3703 3670 4231 6060]\n",
      "Using vanilla PQ : [3351 3093  862 1782 4994 5617 4947 6014 2197  984] Indices matching actual result => [3351]\n",
      "Using residuals  : [4636 4866  866 4994 5483 4790 2261 1847 3351  234] Indices matching actual result => [3351]\n",
      "============================================\n"
     ]
    },
    {
     "name": "stderr",
     "output_type": "stream",
     "text": [
      "/opt/conda/lib/python3.7/site-packages/scipy/cluster/vq.py:607: UserWarning: One of the clusters is empty. Re-run kmeans with a different initialization.\n",
      "  warnings.warn(\"One of the clusters is empty. \"\n"
     ]
    },
    {
     "name": "stdout",
     "output_type": "stream",
     "text": [
      "Total vectors: 8000\n",
      "List containing indices of top 10 nearest neighbors:\n",
      "Actual Result    : [7772  813  150 3388 3687 5169 2285 5940 3325 5606]\n",
      "Using vanilla PQ : [2982  202 2555 5598 4589 2149 1693 7448 3055 6784] Indices matching actual result => []\n",
      "Using residuals  : [4827 2285  934 3079 3325 4580  150 7131 3851 2206] Indices matching actual result => [2285, 3325, 150]\n",
      "============================================\n"
     ]
    },
    {
     "name": "stderr",
     "output_type": "stream",
     "text": [
      "/opt/conda/lib/python3.7/site-packages/scipy/cluster/vq.py:607: UserWarning: One of the clusters is empty. Re-run kmeans with a different initialization.\n",
      "  warnings.warn(\"One of the clusters is empty. \"\n"
     ]
    },
    {
     "name": "stdout",
     "output_type": "stream",
     "text": [
      "Total vectors: 9000\n",
      "List containing indices of top 10 nearest neighbors:\n",
      "Actual Result    : [8213 4966 5718 3227  932 6198 3305 1918 1784 5551]\n",
      "Using vanilla PQ : [3640 3227 8492 8112 1503 1377 5592 1802 3357 8576] Indices matching actual result => [3227]\n",
      "Using residuals  : [4935 5551 6508  400 6546 6421 3563 8131 4767 3602] Indices matching actual result => [5551]\n",
      "============================================\n"
     ]
    },
    {
     "name": "stderr",
     "output_type": "stream",
     "text": [
      "/opt/conda/lib/python3.7/site-packages/scipy/cluster/vq.py:607: UserWarning: One of the clusters is empty. Re-run kmeans with a different initialization.\n",
      "  warnings.warn(\"One of the clusters is empty. \"\n"
     ]
    },
    {
     "name": "stdout",
     "output_type": "stream",
     "text": [
      "Total vectors: 10000\n",
      "List containing indices of top 10 nearest neighbors:\n",
      "Actual Result    : [8612 5135 8656 6441  735 7711 2644 3226 4479 2551]\n",
      "Using vanilla PQ : [8002 9874 6088 1156 4816 5105 5135 7722 9773 1192] Indices matching actual result => [5135]\n",
      "Using residuals  : [ 166 4964 7507 3560 6231 7351 8957 2644 6389 4555] Indices matching actual result => [2644]\n",
      "============================================\n",
      "Average matches using vanilla PQ       : 1.5\n",
      "Average matches using residual vectors : 1.9\n"
     ]
    }
   ],
   "source": [
    "from sklearn.cluster import KMeans\n",
    "\n",
    "M = 8\n",
    "k = 256\n",
    "vector_dim = 128          # Dimension (length) of a vector\n",
    "top_n = 10\n",
    "\n",
    "matches_PQ = 0\n",
    "matches_res = 0\n",
    "loop = 0\n",
    "\n",
    "for total_vectors in [1000,2000,3000,4000,5000,6000,7000,8000,9000,10000]:\n",
    "    loop += 1\n",
    "    \n",
    "    # === (A) Using vanilla PQ ===\n",
    "    np.random.seed(2022)\n",
    "    vectors = np.random.random((total_vectors, vector_dim)).astype(np.float32)   # Database vectors\n",
    "    q = np.random.random((vector_dim, )).astype(np.float32)                      # Query vector\n",
    "\n",
    "    codebook = PQ_train(vectors, M, k)\n",
    "    PQ_code = PQ_encode(vectors, codebook)\n",
    "    distance_table, distances = PQ_search(q, codebook, PQ_code)        \n",
    "    PQ_top_n = distances.argsort()[:top_n]\n",
    "     \n",
    "    # === (B) Using Residual Vectors ===\n",
    "    model = KMeans(n_clusters=1, init=\"k-means++\", max_iter=300, n_init=10, random_state=0)  # 1 partition only (or virtually no partition).\n",
    "    clusters = model.fit_predict(vectors)    \n",
    "    partition_centroids = model.cluster_centers_\n",
    "    residual_vectors = vectors - partition_centroids                            # Residual vectors\n",
    "    qres = q - partition_centroids[0]                                           # Query residual\n",
    "\n",
    "    codebook = PQ_train(residual_vectors, M, k)\n",
    "    PQ_code = PQ_encode(residual_vectors, codebook)\n",
    "    distance_table, distances = PQ_search(qres, codebook, PQ_code)\n",
    "\n",
    "    res_top_n = distances.argsort()[:top_n]\n",
    "    res_top_n\n",
    "    \n",
    "    # === (C) Actual Results ===\n",
    "    N, _ = vectors.shape\n",
    "    distances = np.zeros((N, )).astype(np.float32)\n",
    "\n",
    "    for i, v in enumerate(vectors):\n",
    "        distances[i] = cdist([v], [q], \"sqeuclidean\")[0]\n",
    "\n",
    "    actual_top_n = distances.argsort()[:top_n]\n",
    "    \n",
    "    # === Find matches ===\n",
    "    print(\"Total vectors:\", total_vectors)\n",
    "    print(f\"List containing indices of top {top_n} nearest neighbors:\")\n",
    "    print(\"Actual Result    :\", actual_top_n)\n",
    "    \n",
    "    matches = [x for x in PQ_top_n if x in actual_top_n]    \n",
    "    print(\"Using vanilla PQ :\", PQ_top_n, \"Indices matching actual result =>\", matches)\n",
    "    matches_PQ = matches_PQ + len(matches)\n",
    "    \n",
    "    matches = [i for i in res_top_n if i in actual_top_n]       \n",
    "    print(\"Using residuals  :\", res_top_n, \"Indices matching actual result =>\", matches)\n",
    "    matches_res = matches_res + len(matches)\n",
    "        \n",
    "    print(\"============================================\")   \n",
    "\n",
    "print(\"Average matches using vanilla PQ       :\", round(matches_PQ / loop, 4))\n",
    "print(\"Average matches using residual vectors :\", round(matches_res / loop, 4))"
   ]
  }
 ],
 "metadata": {
  "kernelspec": {
   "display_name": "Python 3",
   "language": "python",
   "name": "python3"
  },
  "language_info": {
   "codemirror_mode": {
    "name": "ipython",
    "version": 3
   },
   "file_extension": ".py",
   "mimetype": "text/x-python",
   "name": "python",
   "nbconvert_exporter": "python",
   "pygments_lexer": "ipython3",
   "version": "3.7.12"
  },
  "papermill": {
   "default_parameters": {},
   "duration": 42.498195,
   "end_time": "2023-02-16T10:06:08.224136",
   "environment_variables": {},
   "exception": null,
   "input_path": "__notebook__.ipynb",
   "output_path": "__notebook__.ipynb",
   "parameters": {},
   "start_time": "2023-02-16T10:05:25.725941",
   "version": "2.3.4"
  }
 },
 "nbformat": 4,
 "nbformat_minor": 5
}
