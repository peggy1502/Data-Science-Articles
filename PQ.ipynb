{
 "cells": [
  {
   "cell_type": "markdown",
   "id": "8d952f87",
   "metadata": {
    "papermill": {
     "duration": 0.026046,
     "end_time": "2022-05-07T13:05:24.837723",
     "exception": false,
     "start_time": "2022-05-07T13:05:24.811677",
     "status": "completed"
    },
    "tags": []
   },
   "source": [
    "# Product Quantization for Similarity Search\n",
    "\n",
    "## How to compress and fit a humongous set of vectors in memory for similarity search with asymmetric distance computation (ADC)\n",
    "\n",
    "### [Click here to read and learn how Product Quantization works (with detailed explanation and illustrations)](https://peggy1502.medium.com/2f1f67c5fddd)\n"
   ]
  },
  {
   "cell_type": "code",
   "execution_count": 1,
   "id": "f36a17d8",
   "metadata": {
    "_cell_guid": "b1076dfc-b9ad-4769-8c92-a6c4dae69d19",
    "_uuid": "8f2839f25d086af736a60e9eeb907d3b93b6e0e5",
    "execution": {
     "iopub.execute_input": "2022-05-07T13:05:24.886104Z",
     "iopub.status.busy": "2022-05-07T13:05:24.885667Z",
     "iopub.status.idle": "2022-05-07T13:05:25.443884Z",
     "shell.execute_reply": "2022-05-07T13:05:25.442538Z"
    },
    "papermill": {
     "duration": 0.58547,
     "end_time": "2022-05-07T13:05:25.446859",
     "exception": false,
     "start_time": "2022-05-07T13:05:24.861389",
     "status": "completed"
    },
    "tags": []
   },
   "outputs": [],
   "source": [
    "import numpy as np\n",
    "from scipy.cluster.vq import kmeans2, vq\n",
    "from scipy.spatial.distance import cdist"
   ]
  },
  {
   "cell_type": "markdown",
   "id": "36fe932b",
   "metadata": {
    "papermill": {
     "duration": 0.021955,
     "end_time": "2022-05-07T13:05:25.491299",
     "exception": false,
     "start_time": "2022-05-07T13:05:25.469344",
     "status": "completed"
    },
    "tags": []
   },
   "source": [
    "- M = number of segments\n",
    "- k = number of centroids per segment\n",
    "- s = dimension, or length of a segment"
   ]
  },
  {
   "cell_type": "code",
   "execution_count": 2,
   "id": "eab7d54f",
   "metadata": {
    "execution": {
     "iopub.execute_input": "2022-05-07T13:05:25.537742Z",
     "iopub.status.busy": "2022-05-07T13:05:25.537388Z",
     "iopub.status.idle": "2022-05-07T13:05:25.543849Z",
     "shell.execute_reply": "2022-05-07T13:05:25.543041Z"
    },
    "papermill": {
     "duration": 0.031949,
     "end_time": "2022-05-07T13:05:25.545653",
     "exception": false,
     "start_time": "2022-05-07T13:05:25.513704",
     "status": "completed"
    },
    "tags": []
   },
   "outputs": [],
   "source": [
    "def PQ_train(vectors, M, k):\n",
    "    s = int(vectors.shape[1] / M)                      # dimension (or length) of a segment.\n",
    "    codebook = np.empty((M, k, s), np.float32)         \n",
    "        \n",
    "    for m in range(M):\n",
    "        sub_vectors = vectors[:, m*s:(m+1)*s]          # sub-vectors for segment m.\n",
    "        codebook[m], label = kmeans2(sub_vectors, k)   # run k-means clustering for each segment.\n",
    "        \n",
    "    return codebook        "
   ]
  },
  {
   "cell_type": "code",
   "execution_count": 3,
   "id": "ee0b56e5",
   "metadata": {
    "execution": {
     "iopub.execute_input": "2022-05-07T13:05:25.593221Z",
     "iopub.status.busy": "2022-05-07T13:05:25.592045Z",
     "iopub.status.idle": "2022-05-07T13:05:25.599673Z",
     "shell.execute_reply": "2022-05-07T13:05:25.598625Z"
    },
    "papermill": {
     "duration": 0.034116,
     "end_time": "2022-05-07T13:05:25.602303",
     "exception": false,
     "start_time": "2022-05-07T13:05:25.568187",
     "status": "completed"
    },
    "tags": []
   },
   "outputs": [],
   "source": [
    "def PQ_encode(vectors, codebook):\n",
    "    M, k, s = codebook.shape\n",
    "    PQ_code = np.empty((vectors.shape[0], M), np.uint8)\n",
    "    \n",
    "    for m in range(M):\n",
    "        sub_vectors = vectors[:, m*s:(m+1)*s]           # sub-vectors for segment m.\n",
    "        centroid_ids, _ = vq(sub_vectors, codebook[m])  # vq returns the nearest centroid Ids.\n",
    "        PQ_code[:, m] = centroid_ids                    # assign centroid Ids to PQ_code.\n",
    "        \n",
    "    return PQ_code"
   ]
  },
  {
   "cell_type": "code",
   "execution_count": 4,
   "id": "a33383ec",
   "metadata": {
    "execution": {
     "iopub.execute_input": "2022-05-07T13:05:25.649075Z",
     "iopub.status.busy": "2022-05-07T13:05:25.648666Z",
     "iopub.status.idle": "2022-05-07T13:05:25.657154Z",
     "shell.execute_reply": "2022-05-07T13:05:25.656438Z"
    },
    "papermill": {
     "duration": 0.034578,
     "end_time": "2022-05-07T13:05:25.659349",
     "exception": false,
     "start_time": "2022-05-07T13:05:25.624771",
     "status": "completed"
    },
    "tags": []
   },
   "outputs": [],
   "source": [
    "def PQ_search(query_vector, codebook, PQ_code):\n",
    "    M, k, s = codebook.shape\n",
    "    #=====================================================================\n",
    "    # Build the distance table.\n",
    "    #=====================================================================\n",
    "    \n",
    "    distance_table = np.empty((M, k), np.float32)    # Shape is (M, k)    \n",
    "        \n",
    "    for m in range(M):\n",
    "        query_segment = query_vector[m*s:(m+1)*s]    # query vector for segment m.\n",
    "        distance_table[m] = cdist([query_segment], codebook[m], \"sqeuclidean\")[0]\n",
    "        \n",
    "    #=====================================================================\n",
    "    # Look up the partial distances from the distance table.\n",
    "    #=====================================================================\n",
    "    \n",
    "    N, M = PQ_code.shape\n",
    "    distance_table = distance_table.T               # Transpose the distance table to shape (k, M)\n",
    "    distances = np.zeros((N, )).astype(np.float32)\n",
    "\n",
    "    for n in range(N):                              # For each PQ Code, lookup the partial distances.\n",
    "        for m in range(M):\n",
    "            distances[n] += distance_table[PQ_code[n][m]][m] # Sum the partial distances from all the segments.\n",
    "            \n",
    "    return distance_table, distances    "
   ]
  },
  {
   "cell_type": "code",
   "execution_count": 5,
   "id": "bce691b0",
   "metadata": {
    "execution": {
     "iopub.execute_input": "2022-05-07T13:05:25.706878Z",
     "iopub.status.busy": "2022-05-07T13:05:25.706484Z",
     "iopub.status.idle": "2022-05-07T13:05:25.710626Z",
     "shell.execute_reply": "2022-05-07T13:05:25.709939Z"
    },
    "papermill": {
     "duration": 0.0308,
     "end_time": "2022-05-07T13:05:25.712636",
     "exception": false,
     "start_time": "2022-05-07T13:05:25.681836",
     "status": "completed"
    },
    "tags": []
   },
   "outputs": [],
   "source": [
    "# def PQ_search(query_vector, codebook, PQ_code):\n",
    "#     M, k, s = codebook.shape\n",
    "#     distance_table = np.empty((M, k), np.float32)              # Shape is (M, k)   \n",
    "    \n",
    "#     for m in range(M):\n",
    "#         query_segment = query_vector[m*s:(m+1)*s]               # query vector for segment m.\n",
    "        \n",
    "#         distance_table[m] = cdist([query_segment], codebook[m], \"sqeuclidean\")[0]\n",
    "# #       distance_table[m] = np.linalg.norm(codebook[m] - query_segment, axis=1) ** 2\n",
    "        \n",
    "#     distances = np.sum(distance_table[range(M), PQ_code], axis=1)\n",
    "    \n",
    "#     return distances    "
   ]
  },
  {
   "cell_type": "markdown",
   "id": "2ede35d2",
   "metadata": {
    "papermill": {
     "duration": 0.022342,
     "end_time": "2022-05-07T13:05:25.756983",
     "exception": false,
     "start_time": "2022-05-07T13:05:25.734641",
     "status": "completed"
    },
    "tags": []
   },
   "source": [
    "# Test Case 1\n",
    "\n",
    "#### A small example with 10 database vectors (of length 6) that will be divided and split into 2 segments, with 4 centroids per segment.\n",
    "\n",
    "#### You may use this example to verify and inspect the values for better understanding of Product Quantization."
   ]
  },
  {
   "cell_type": "code",
   "execution_count": 6,
   "id": "44aad5e9",
   "metadata": {
    "execution": {
     "iopub.execute_input": "2022-05-07T13:05:25.805854Z",
     "iopub.status.busy": "2022-05-07T13:05:25.805454Z",
     "iopub.status.idle": "2022-05-07T13:05:25.822897Z",
     "shell.execute_reply": "2022-05-07T13:05:25.822139Z"
    },
    "papermill": {
     "duration": 0.04348,
     "end_time": "2022-05-07T13:05:25.825139",
     "exception": false,
     "start_time": "2022-05-07T13:05:25.781659",
     "status": "completed"
    },
    "tags": []
   },
   "outputs": [],
   "source": [
    "M = 2\n",
    "k = 4\n",
    "vector_dim = 6          # Dimension of a vector\n",
    "total_vectors = 10\n",
    "\n",
    "np.random.seed(2022)\n",
    "vectors = np.random.random((total_vectors, vector_dim)).astype(np.float32)   # Database vectors\n",
    "q = np.random.random((vector_dim, )).astype(np.float32)                      # Query vector\n",
    "\n",
    "codebook = PQ_train(vectors, M, k)\n",
    "PQ_code = PQ_encode(vectors, codebook)\n",
    "distance_table, distances = PQ_search(q, codebook, PQ_code)"
   ]
  },
  {
   "cell_type": "code",
   "execution_count": 7,
   "id": "ae377424",
   "metadata": {
    "execution": {
     "iopub.execute_input": "2022-05-07T13:05:25.872813Z",
     "iopub.status.busy": "2022-05-07T13:05:25.872140Z",
     "iopub.status.idle": "2022-05-07T13:05:25.881750Z",
     "shell.execute_reply": "2022-05-07T13:05:25.881199Z"
    },
    "papermill": {
     "duration": 0.036304,
     "end_time": "2022-05-07T13:05:25.884928",
     "exception": false,
     "start_time": "2022-05-07T13:05:25.848624",
     "status": "completed"
    },
    "tags": []
   },
   "outputs": [
    {
     "data": {
      "text/plain": [
       "array([[0.00935861, 0.4990578 , 0.11338369, 0.04997402, 0.6854076 ,\n",
       "        0.48698807],\n",
       "       [0.8976572 , 0.64745206, 0.8969631 , 0.7211349 , 0.8313534 ,\n",
       "        0.82756805],\n",
       "       [0.8335796 , 0.95704436, 0.36804444, 0.49483764, 0.3395095 ,\n",
       "        0.61942935],\n",
       "       [0.97752964, 0.09643308, 0.7442062 , 0.29249948, 0.29867536,\n",
       "        0.7524735 ],\n",
       "       [0.01866373, 0.52373743, 0.86443585, 0.38884285, 0.21219185,\n",
       "        0.47518072],\n",
       "       [0.5646724 , 0.3494293 , 0.97590864, 0.03782004, 0.7942697 ,\n",
       "        0.3578826 ],\n",
       "       [0.74796396, 0.9145093 , 0.37266243, 0.96488345, 0.08138578,\n",
       "        0.04245099],\n",
       "       [0.29679602, 0.36370364, 0.49025518, 0.6685187 , 0.67341465,\n",
       "        0.57210064],\n",
       "       [0.08059224, 0.8983313 , 0.03838853, 0.78219444, 0.03665636,\n",
       "        0.26718384],\n",
       "       [0.20522384, 0.25889444, 0.9326153 , 0.00812491, 0.40347317,\n",
       "        0.8941022 ]], dtype=float32)"
      ]
     },
     "execution_count": 7,
     "metadata": {},
     "output_type": "execute_result"
    }
   ],
   "source": [
    "vectors           # database vectors"
   ]
  },
  {
   "cell_type": "code",
   "execution_count": 8,
   "id": "a5c1bd51",
   "metadata": {
    "execution": {
     "iopub.execute_input": "2022-05-07T13:05:25.933269Z",
     "iopub.status.busy": "2022-05-07T13:05:25.932076Z",
     "iopub.status.idle": "2022-05-07T13:05:25.939989Z",
     "shell.execute_reply": "2022-05-07T13:05:25.938921Z"
    },
    "papermill": {
     "duration": 0.034319,
     "end_time": "2022-05-07T13:05:25.942190",
     "exception": false,
     "start_time": "2022-05-07T13:05:25.907871",
     "status": "completed"
    },
    "tags": []
   },
   "outputs": [
    {
     "data": {
      "text/plain": [
       "array([0.20420903, 0.02177601, 0.6971671 , 0.19102335, 0.546433  ,\n",
       "       0.6032252 ], dtype=float32)"
      ]
     },
     "execution_count": 8,
     "metadata": {},
     "output_type": "execute_result"
    }
   ],
   "source": [
    "q                 # query vector"
   ]
  },
  {
   "cell_type": "code",
   "execution_count": 9,
   "id": "3d5c324c",
   "metadata": {
    "execution": {
     "iopub.execute_input": "2022-05-07T13:05:25.991769Z",
     "iopub.status.busy": "2022-05-07T13:05:25.991499Z",
     "iopub.status.idle": "2022-05-07T13:05:25.999061Z",
     "shell.execute_reply": "2022-05-07T13:05:25.997688Z"
    },
    "papermill": {
     "duration": 0.03523,
     "end_time": "2022-05-07T13:05:26.001148",
     "exception": false,
     "start_time": "2022-05-07T13:05:25.965918",
     "status": "completed"
    },
    "tags": []
   },
   "outputs": [
    {
     "data": {
      "text/plain": [
       "array([[[0.93759346, 0.37194258, 0.82058465],\n",
       "        [0.01401117, 0.5113976 , 0.48890978],\n",
       "        [0.3555641 , 0.32400915, 0.79959303],\n",
       "        [0.55404526, 0.923295  , 0.25969848]],\n",
       "\n",
       "       [[0.34058645, 0.5111673 , 0.8247146 ],\n",
       "        [0.5173997 , 0.408372  , 0.55557024],\n",
       "        [0.04389703, 0.7398386 , 0.42243534],\n",
       "        [0.873539  , 0.05902107, 0.15481742]]], dtype=float32)"
      ]
     },
     "execution_count": 9,
     "metadata": {},
     "output_type": "execute_result"
    }
   ],
   "source": [
    "codebook          # the generated codebook"
   ]
  },
  {
   "cell_type": "code",
   "execution_count": 10,
   "id": "ca21e5c0",
   "metadata": {
    "execution": {
     "iopub.execute_input": "2022-05-07T13:05:26.051458Z",
     "iopub.status.busy": "2022-05-07T13:05:26.051117Z",
     "iopub.status.idle": "2022-05-07T13:05:26.059289Z",
     "shell.execute_reply": "2022-05-07T13:05:26.058546Z"
    },
    "papermill": {
     "duration": 0.035705,
     "end_time": "2022-05-07T13:05:26.061118",
     "exception": false,
     "start_time": "2022-05-07T13:05:26.025413",
     "status": "completed"
    },
    "tags": []
   },
   "outputs": [
    {
     "data": {
      "text/plain": [
       "array([[1, 2],\n",
       "       [0, 0],\n",
       "       [3, 1],\n",
       "       [0, 0],\n",
       "       [1, 1],\n",
       "       [2, 2],\n",
       "       [3, 3],\n",
       "       [2, 1],\n",
       "       [3, 3],\n",
       "       [2, 0]], dtype=uint8)"
      ]
     },
     "execution_count": 10,
     "metadata": {},
     "output_type": "execute_result"
    }
   ],
   "source": [
    "PQ_code           # the generated PQ codes"
   ]
  },
  {
   "cell_type": "code",
   "execution_count": 11,
   "id": "a2b03ac5",
   "metadata": {
    "execution": {
     "iopub.execute_input": "2022-05-07T13:05:26.111190Z",
     "iopub.status.busy": "2022-05-07T13:05:26.110684Z",
     "iopub.status.idle": "2022-05-07T13:05:26.117849Z",
     "shell.execute_reply": "2022-05-07T13:05:26.116763Z"
    },
    "papermill": {
     "duration": 0.035032,
     "end_time": "2022-05-07T13:05:26.120353",
     "exception": false,
     "start_time": "2022-05-07T13:05:26.085321",
     "status": "completed"
    },
    "tags": []
   },
   "outputs": [
    {
     "data": {
      "text/plain": [
       "array([[0.67570126, 0.07267036],\n",
       "       [0.31927565, 0.12785336],\n",
       "       [0.1247443 , 0.09173685],\n",
       "       [1.1265007 , 0.90446746]], dtype=float32)"
      ]
     },
     "execution_count": 11,
     "metadata": {},
     "output_type": "execute_result"
    }
   ],
   "source": [
    "distance_table    # the generated distance table"
   ]
  },
  {
   "cell_type": "code",
   "execution_count": 12,
   "id": "c0ad202c",
   "metadata": {
    "execution": {
     "iopub.execute_input": "2022-05-07T13:05:26.172368Z",
     "iopub.status.busy": "2022-05-07T13:05:26.172060Z",
     "iopub.status.idle": "2022-05-07T13:05:26.178006Z",
     "shell.execute_reply": "2022-05-07T13:05:26.177376Z"
    },
    "papermill": {
     "duration": 0.033719,
     "end_time": "2022-05-07T13:05:26.180172",
     "exception": false,
     "start_time": "2022-05-07T13:05:26.146453",
     "status": "completed"
    },
    "tags": []
   },
   "outputs": [
    {
     "data": {
      "text/plain": [
       "array([0.4110125 , 0.7483716 , 1.2543541 , 0.7483716 , 0.447129  ,\n",
       "       0.21648115, 2.0309682 , 0.25259766, 2.0309682 , 0.19741465],\n",
       "      dtype=float32)"
      ]
     },
     "execution_count": 12,
     "metadata": {},
     "output_type": "execute_result"
    }
   ],
   "source": [
    "distances # the distances between the database vectors and the query vector."
   ]
  },
  {
   "cell_type": "markdown",
   "id": "5e6695f7",
   "metadata": {
    "papermill": {
     "duration": 0.024213,
     "end_time": "2022-05-07T13:05:26.228821",
     "exception": false,
     "start_time": "2022-05-07T13:05:26.204608",
     "status": "completed"
    },
    "tags": []
   },
   "source": [
    "# Test Case 2\n",
    "#### An example with 1 million database vectors (of length 128) that will be divided and split into 8 segments, with 256 centroids per segment."
   ]
  },
  {
   "cell_type": "code",
   "execution_count": 13,
   "id": "97afb1e5",
   "metadata": {
    "execution": {
     "iopub.execute_input": "2022-05-07T13:05:26.279830Z",
     "iopub.status.busy": "2022-05-07T13:05:26.279364Z",
     "iopub.status.idle": "2022-05-07T13:07:27.615198Z",
     "shell.execute_reply": "2022-05-07T13:07:27.614443Z"
    },
    "papermill": {
     "duration": 121.364764,
     "end_time": "2022-05-07T13:07:27.618120",
     "exception": false,
     "start_time": "2022-05-07T13:05:26.253356",
     "status": "completed"
    },
    "tags": []
   },
   "outputs": [
    {
     "name": "stderr",
     "output_type": "stream",
     "text": [
      "/opt/conda/lib/python3.7/site-packages/scipy/cluster/vq.py:607: UserWarning: One of the clusters is empty. Re-run kmeans with a different initialization.\n",
      "  warnings.warn(\"One of the clusters is empty. \"\n"
     ]
    }
   ],
   "source": [
    "M = 8\n",
    "k = 256\n",
    "vector_dim = 128          # Dimension (length) of a vector\n",
    "total_vectors = 1000000\n",
    "\n",
    "np.random.seed(2022)\n",
    "vectors = np.random.random((total_vectors, vector_dim)).astype(np.float32)   # Database vectors\n",
    "q = np.random.random((vector_dim, )).astype(np.float32)                      # Query vector\n",
    "\n",
    "codebook = PQ_train(vectors, M, k)\n",
    "PQ_code = PQ_encode(vectors, codebook)\n",
    "distance_table, distances = PQ_search(q, codebook, PQ_code)"
   ]
  },
  {
   "cell_type": "code",
   "execution_count": 14,
   "id": "5ba1219e",
   "metadata": {
    "execution": {
     "iopub.execute_input": "2022-05-07T13:07:27.673059Z",
     "iopub.status.busy": "2022-05-07T13:07:27.671986Z",
     "iopub.status.idle": "2022-05-07T13:07:27.678990Z",
     "shell.execute_reply": "2022-05-07T13:07:27.678194Z"
    },
    "papermill": {
     "duration": 0.03734,
     "end_time": "2022-05-07T13:07:27.681300",
     "exception": false,
     "start_time": "2022-05-07T13:07:27.643960",
     "status": "completed"
    },
    "tags": []
   },
   "outputs": [
    {
     "data": {
      "text/plain": [
       "array([[0.00935861, 0.4990578 , 0.11338369, ..., 0.7015135 , 0.82271117,\n",
       "        0.73850626],\n",
       "       [0.987894  , 0.15918045, 0.9880797 , ..., 0.36329183, 0.6499846 ,\n",
       "        0.6270492 ],\n",
       "       [0.7823163 , 0.7571479 , 0.37924927, ..., 0.36728022, 0.5861753 ,\n",
       "        0.02303002],\n",
       "       ...,\n",
       "       [0.9448289 , 0.49708685, 0.53720295, ..., 0.85491776, 0.79853326,\n",
       "        0.3665858 ],\n",
       "       [0.9057683 , 0.26638535, 0.50740963, ..., 0.4805671 , 0.5286727 ,\n",
       "        0.65772986],\n",
       "       [0.2985167 , 0.6905571 , 0.7515794 , ..., 0.8296632 , 0.6137684 ,\n",
       "        0.14333938]], dtype=float32)"
      ]
     },
     "execution_count": 14,
     "metadata": {},
     "output_type": "execute_result"
    }
   ],
   "source": [
    "vectors           # database vectors"
   ]
  },
  {
   "cell_type": "code",
   "execution_count": 15,
   "id": "b58caeeb",
   "metadata": {
    "execution": {
     "iopub.execute_input": "2022-05-07T13:07:27.737645Z",
     "iopub.status.busy": "2022-05-07T13:07:27.736947Z",
     "iopub.status.idle": "2022-05-07T13:07:27.744605Z",
     "shell.execute_reply": "2022-05-07T13:07:27.743875Z"
    },
    "papermill": {
     "duration": 0.037795,
     "end_time": "2022-05-07T13:07:27.746779",
     "exception": false,
     "start_time": "2022-05-07T13:07:27.708984",
     "status": "completed"
    },
    "tags": []
   },
   "outputs": [
    {
     "data": {
      "text/plain": [
       "array([0.10070486, 0.1714809 , 0.15225852, 0.6886641 , 0.9749756 ,\n",
       "       0.06685743, 0.69114894, 0.2268187 , 0.00141395, 0.13073783,\n",
       "       0.92005795, 0.7369674 , 0.25174677, 0.9440858 , 0.05007194,\n",
       "       0.7274404 , 0.8650318 , 0.56946415, 0.19805309, 0.75597805,\n",
       "       0.69489574, 0.436116  , 0.30583853, 0.49263567, 0.44103155,\n",
       "       0.93019086, 0.21397944, 0.26108417, 0.9023846 , 0.8116958 ,\n",
       "       0.99607897, 0.14933279, 0.51558095, 0.08782236, 0.4078355 ,\n",
       "       0.3299799 , 0.6854069 , 0.8505636 , 0.14264438, 0.19260886,\n",
       "       0.6159144 , 0.2733055 , 0.9427627 , 0.98627466, 0.498921  ,\n",
       "       0.08150337, 0.882082  , 0.27246374, 0.6357337 , 0.30563086,\n",
       "       0.5093854 , 0.12601191, 0.5434625 , 0.21716632, 0.8092636 ,\n",
       "       0.7351097 , 0.1922371 , 0.31089687, 0.24594605, 0.49831435,\n",
       "       0.32414576, 0.43404552, 0.62408173, 0.83273077, 0.97268635,\n",
       "       0.16446854, 0.45040593, 0.3236742 , 0.23752789, 0.08184742,\n",
       "       0.8231972 , 0.7655861 , 0.82405686, 0.9156477 , 0.41033307,\n",
       "       0.85467094, 0.842714  , 0.8383226 , 0.70018715, 0.729778  ,\n",
       "       0.40559298, 0.17556569, 0.22596194, 0.3225713 , 0.6185781 ,\n",
       "       0.29345474, 0.45492133, 0.97344613, 0.40634593, 0.8349796 ,\n",
       "       0.8611262 , 0.9834968 , 0.11873938, 0.7078101 , 0.7556126 ,\n",
       "       0.4399527 , 0.42482617, 0.7818704 , 0.08550777, 0.10712754,\n",
       "       0.9203366 , 0.6036518 , 0.6907588 , 0.00355556, 0.93038887,\n",
       "       0.68147206, 0.18585208, 0.35031754, 0.02213396, 0.15578121,\n",
       "       0.8553962 , 0.15374492, 0.6167015 , 0.55254745, 0.64114994,\n",
       "       0.05146591, 0.40343848, 0.8872529 , 0.8500316 , 0.89364415,\n",
       "       0.97461313, 0.48535526, 0.64346445, 0.6153406 , 0.33152577,\n",
       "       0.9275232 , 0.8152371 , 0.24599673], dtype=float32)"
      ]
     },
     "execution_count": 15,
     "metadata": {},
     "output_type": "execute_result"
    }
   ],
   "source": [
    "q                 # query vector"
   ]
  },
  {
   "cell_type": "code",
   "execution_count": 16,
   "id": "6da7ed0e",
   "metadata": {
    "execution": {
     "iopub.execute_input": "2022-05-07T13:07:27.803435Z",
     "iopub.status.busy": "2022-05-07T13:07:27.802906Z",
     "iopub.status.idle": "2022-05-07T13:07:27.813323Z",
     "shell.execute_reply": "2022-05-07T13:07:27.812243Z"
    },
    "papermill": {
     "duration": 0.041103,
     "end_time": "2022-05-07T13:07:27.815747",
     "exception": false,
     "start_time": "2022-05-07T13:07:27.774644",
     "status": "completed"
    },
    "tags": []
   },
   "outputs": [
    {
     "data": {
      "text/plain": [
       "array([[[0.2714486 , 0.24714273, 0.31333324, ..., 0.6957724 ,\n",
       "         0.49512926, 0.3413709 ],\n",
       "        [0.44175753, 0.71572846, 0.2816623 , ..., 0.24923094,\n",
       "         0.7296848 , 0.5201776 ],\n",
       "        [0.45408893, 0.28121132, 0.28604797, ..., 0.3837846 ,\n",
       "         0.52248466, 0.33711308],\n",
       "        ...,\n",
       "        [0.6132575 , 0.7066365 , 0.77730024, ..., 0.61606586,\n",
       "         0.2589899 , 0.74349356],\n",
       "        [0.49634   , 0.688018  , 0.6851171 , ..., 0.7145026 ,\n",
       "         0.30040693, 0.711934  ],\n",
       "        [0.38210297, 0.25856316, 0.30580595, ..., 0.375045  ,\n",
       "         0.39922574, 0.72658205]],\n",
       "\n",
       "       [[0.2635966 , 0.72523916, 0.5818799 , ..., 0.68363416,\n",
       "         0.27500525, 0.26784706],\n",
       "        [0.74839205, 0.68505275, 0.44021732, ..., 0.26671767,\n",
       "         0.71851015, 0.33116615],\n",
       "        [0.26986226, 0.66971135, 0.75319296, ..., 0.46202248,\n",
       "         0.3312493 , 0.2585347 ],\n",
       "        ...,\n",
       "        [0.2670113 , 0.26283354, 0.2643863 , ..., 0.2764622 ,\n",
       "         0.54726934, 0.70552015],\n",
       "        [0.30591583, 0.7092383 , 0.29096583, ..., 0.6981951 ,\n",
       "         0.24379656, 0.7390126 ],\n",
       "        [0.25857216, 0.62982595, 0.6842877 , ..., 0.26940644,\n",
       "         0.7232446 , 0.30859205]],\n",
       "\n",
       "       [[0.30166367, 0.36825395, 0.7285312 , ..., 0.6013081 ,\n",
       "         0.33424997, 0.5210883 ],\n",
       "        [0.30901536, 0.25181907, 0.28185537, ..., 0.7639118 ,\n",
       "         0.31150743, 0.67023444],\n",
       "        [0.3892014 , 0.29574564, 0.6353234 , ..., 0.29061893,\n",
       "         0.761726  , 0.6628899 ],\n",
       "        ...,\n",
       "        [0.3141242 , 0.7351922 , 0.4336097 , ..., 0.48909342,\n",
       "         0.272586  , 0.28009337],\n",
       "        [0.6086496 , 0.26281264, 0.70672745, ..., 0.7120511 ,\n",
       "         0.44962645, 0.65876514],\n",
       "        [0.29049385, 0.6143727 , 0.34995914, ..., 0.23940352,\n",
       "         0.29067317, 0.3532242 ]],\n",
       "\n",
       "       ...,\n",
       "\n",
       "       [[0.70594037, 0.7327402 , 0.2754661 , ..., 0.7089227 ,\n",
       "         0.6861824 , 0.6794072 ],\n",
       "        [0.7334012 , 0.28794593, 0.73289454, ..., 0.22446561,\n",
       "         0.7532872 , 0.75301325],\n",
       "        [0.36161694, 0.26439995, 0.7433725 , ..., 0.24667272,\n",
       "         0.6987156 , 0.5443485 ],\n",
       "        ...,\n",
       "        [0.44071376, 0.68779457, 0.7073373 , ..., 0.45049375,\n",
       "         0.24454714, 0.30215427],\n",
       "        [0.27338764, 0.2730783 , 0.6798511 , ..., 0.5629648 ,\n",
       "         0.7127347 , 0.3538767 ],\n",
       "        [0.30158496, 0.643616  , 0.72962105, ..., 0.24268807,\n",
       "         0.7303868 , 0.7274016 ]],\n",
       "\n",
       "       [[0.7182822 , 0.7307699 , 0.3104514 , ..., 0.6497539 ,\n",
       "         0.7589924 , 0.6879553 ],\n",
       "        [0.26393148, 0.24440043, 0.57573444, ..., 0.68216765,\n",
       "         0.6350831 , 0.5555507 ],\n",
       "        [0.7420166 , 0.26011604, 0.56300896, ..., 0.3795628 ,\n",
       "         0.6615252 , 0.3836301 ],\n",
       "        ...,\n",
       "        [0.34931317, 0.22805423, 0.50313133, ..., 0.71383286,\n",
       "         0.26270035, 0.7263625 ],\n",
       "        [0.67549825, 0.73032606, 0.7310277 , ..., 0.23953964,\n",
       "         0.26058483, 0.6144887 ],\n",
       "        [0.44825605, 0.7821544 , 0.43489492, ..., 0.2772154 ,\n",
       "         0.614803  , 0.3327572 ]],\n",
       "\n",
       "       [[0.7472328 , 0.7424147 , 0.6460752 , ..., 0.4026035 ,\n",
       "         0.28158453, 0.46588263],\n",
       "        [0.7321972 , 0.2466749 , 0.46630543, ..., 0.6205916 ,\n",
       "         0.49963254, 0.6974201 ],\n",
       "        [0.31924078, 0.2385868 , 0.61351573, ..., 0.31838465,\n",
       "         0.62796056, 0.69030315],\n",
       "        ...,\n",
       "        [0.31307602, 0.6723366 , 0.30860332, ..., 0.25517863,\n",
       "         0.71762353, 0.6666259 ],\n",
       "        [0.73699003, 0.7148046 , 0.2807078 , ..., 0.32554883,\n",
       "         0.5413012 , 0.33013424],\n",
       "        [0.64330554, 0.7296078 , 0.28208005, ..., 0.68606484,\n",
       "         0.7104275 , 0.3661116 ]]], dtype=float32)"
      ]
     },
     "execution_count": 16,
     "metadata": {},
     "output_type": "execute_result"
    }
   ],
   "source": [
    "codebook          # the generated codebook"
   ]
  },
  {
   "cell_type": "code",
   "execution_count": 17,
   "id": "e1187e52",
   "metadata": {
    "execution": {
     "iopub.execute_input": "2022-05-07T13:07:27.871693Z",
     "iopub.status.busy": "2022-05-07T13:07:27.870611Z",
     "iopub.status.idle": "2022-05-07T13:07:27.877212Z",
     "shell.execute_reply": "2022-05-07T13:07:27.876534Z"
    },
    "papermill": {
     "duration": 0.036876,
     "end_time": "2022-05-07T13:07:27.879176",
     "exception": false,
     "start_time": "2022-05-07T13:07:27.842300",
     "status": "completed"
    },
    "tags": []
   },
   "outputs": [
    {
     "data": {
      "text/plain": [
       "array([[ 29, 212, 214, ..., 160,  46,  31],\n",
       "       [ 80,  62,   6, ...,  53,  62, 187],\n",
       "       [ 33,  82, 157, ..., 222, 207, 205],\n",
       "       ...,\n",
       "       [ 81, 173,  98, ..., 188, 232,  31],\n",
       "       [116, 254, 188, ..., 181, 115,  82],\n",
       "       [119, 231, 185, ...,  34,  40, 210]], dtype=uint8)"
      ]
     },
     "execution_count": 17,
     "metadata": {},
     "output_type": "execute_result"
    }
   ],
   "source": [
    "PQ_code           # the generated PQ codes"
   ]
  },
  {
   "cell_type": "code",
   "execution_count": 18,
   "id": "75641471",
   "metadata": {
    "execution": {
     "iopub.execute_input": "2022-05-07T13:07:27.935292Z",
     "iopub.status.busy": "2022-05-07T13:07:27.934999Z",
     "iopub.status.idle": "2022-05-07T13:07:27.942688Z",
     "shell.execute_reply": "2022-05-07T13:07:27.941727Z"
    },
    "papermill": {
     "duration": 0.039311,
     "end_time": "2022-05-07T13:07:27.945434",
     "exception": false,
     "start_time": "2022-05-07T13:07:27.906123",
     "status": "completed"
    },
    "tags": []
   },
   "outputs": [
    {
     "data": {
      "text/plain": [
       "array([[2.092305 , 2.4898663, 2.9422212, ..., 1.629852 , 2.654244 ,\n",
       "        1.9011606],\n",
       "       [2.088503 , 1.5805417, 2.0801227, ..., 1.937171 , 3.4474962,\n",
       "        2.0638335],\n",
       "       [2.9624765, 2.0734308, 1.4903691, ..., 1.8205851, 2.9466026,\n",
       "        2.7976434],\n",
       "       ...,\n",
       "       [2.763594 , 2.2813995, 2.302858 , ..., 2.311877 , 2.6196272,\n",
       "        1.862288 ],\n",
       "       [2.5436997, 1.899764 , 2.10331  , ..., 1.3405595, 2.2057638,\n",
       "        2.4736505],\n",
       "       [1.9196714, 2.3986058, 2.3290567, ..., 2.6416855, 2.132494 ,\n",
       "        1.0776821]], dtype=float32)"
      ]
     },
     "execution_count": 18,
     "metadata": {},
     "output_type": "execute_result"
    }
   ],
   "source": [
    "distance_table     # the generated distance table"
   ]
  },
  {
   "cell_type": "code",
   "execution_count": 19,
   "id": "348cacc9",
   "metadata": {
    "execution": {
     "iopub.execute_input": "2022-05-07T13:07:28.003279Z",
     "iopub.status.busy": "2022-05-07T13:07:28.002901Z",
     "iopub.status.idle": "2022-05-07T13:07:28.009304Z",
     "shell.execute_reply": "2022-05-07T13:07:28.008617Z"
    },
    "papermill": {
     "duration": 0.037877,
     "end_time": "2022-05-07T13:07:28.011342",
     "exception": false,
     "start_time": "2022-05-07T13:07:27.973465",
     "status": "completed"
    },
    "tags": []
   },
   "outputs": [
    {
     "data": {
      "text/plain": [
       "array([16.849852, 15.688269, 16.844519, ..., 16.050737, 17.386984,\n",
       "       15.984062], dtype=float32)"
      ]
     },
     "execution_count": 19,
     "metadata": {},
     "output_type": "execute_result"
    }
   ],
   "source": [
    "distances          # the distances between the database vectors and the query vector."
   ]
  }
 ],
 "metadata": {
  "kernelspec": {
   "display_name": "Python 3",
   "language": "python",
   "name": "python3"
  },
  "language_info": {
   "codemirror_mode": {
    "name": "ipython",
    "version": 3
   },
   "file_extension": ".py",
   "mimetype": "text/x-python",
   "name": "python",
   "nbconvert_exporter": "python",
   "pygments_lexer": "ipython3",
   "version": "3.7.12"
  },
  "papermill": {
   "default_parameters": {},
   "duration": 134.729343,
   "end_time": "2022-05-07T13:07:28.862779",
   "environment_variables": {},
   "exception": null,
   "input_path": "__notebook__.ipynb",
   "output_path": "__notebook__.ipynb",
   "parameters": {},
   "start_time": "2022-05-07T13:05:14.133436",
   "version": "2.3.4"
  }
 },
 "nbformat": 4,
 "nbformat_minor": 5
}
